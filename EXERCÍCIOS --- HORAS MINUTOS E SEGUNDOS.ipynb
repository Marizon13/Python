{
 "cells": [
  {
   "cell_type": "markdown",
   "id": "b42429d3",
   "metadata": {},
   "source": [
    "##  DESAFIO"
   ]
  },
  {
   "cell_type": "markdown",
   "id": "9b4b7dad",
   "metadata": {},
   "source": [
    "\n",
    "Você terá o desafio de ler um valor inteiro, que é o tempo de duração em segundos de um determinado evento em uma loja, e informe-o expresso no formato horas: minutos: segundos.\n",
    "\n",
    "Entrada\n",
    "O arquivo de entrada contém um valor inteiro N.\n",
    "\n",
    "Saída\n",
    "Imprima o tempo lido no arquivo de entrada (segundos), convertido para horas: minutos :segundos, conforme exemplo fornecido.\n",
    "\n",
    " \n",
    " \n",
    " Exemplo de Entrada\n",
    " 556\n",
    " \n",
    " Exemplo de Saída\n",
    " 0:9:16"
   ]
  },
  {
   "cell_type": "code",
   "execution_count": 4,
   "id": "5fb81350",
   "metadata": {},
   "outputs": [
    {
     "name": "stdout",
     "output_type": "stream",
     "text": [
      "556\n",
      "0:9:16\n"
     ]
    }
   ],
   "source": [
    "\n",
    "\n",
    "segundos = int(input())\n",
    "horas = segundos // 60**2\n",
    "segundos = segundos - horas * 60**2\n",
    "\n",
    "minutos = segundos // 60\n",
    "segundos = segundos - minutos*60\n",
    "\n",
    "segundos = segundos\n",
    "\n",
    "print('{}:{}:{}'.format(horas, minutos, segundos))\n",
    " "
   ]
  }
 ],
 "metadata": {
  "kernelspec": {
   "display_name": "Python 3 (ipykernel)",
   "language": "python",
   "name": "python3"
  },
  "language_info": {
   "codemirror_mode": {
    "name": "ipython",
    "version": 3
   },
   "file_extension": ".py",
   "mimetype": "text/x-python",
   "name": "python",
   "nbconvert_exporter": "python",
   "pygments_lexer": "ipython3",
   "version": "3.9.7"
  }
 },
 "nbformat": 4,
 "nbformat_minor": 5
}
