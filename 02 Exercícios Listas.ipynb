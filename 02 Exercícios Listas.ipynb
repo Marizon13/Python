{
 "cells": [
  {
   "cell_type": "markdown",
   "metadata": {},
   "source": [
    "# Exercícios\n",
    "\n",
    "## 1. Faturamento do Melhor e do Pior Mês do Ano\n",
    "\n",
    "Qual foi o valor de vendas do melhor mês do Ano?\n",
    "E valor do pior mês do ano?"
   ]
  },
  {
   "cell_type": "code",
   "execution_count": 3,
   "metadata": {},
   "outputs": [
    {
     "name": "stdout",
     "output_type": "stream",
     "text": [
      "A maior venda do ano foi 49051\n",
      "A menor venda do ano foi 9650\n"
     ]
    }
   ],
   "source": [
    "meses = ['jan', 'fev', 'mar', 'abr', 'mai', 'jun', 'jul', 'ago', 'set', 'out', 'nov', 'dez']\n",
    "vendas_1sem = [25000, 29000, 22200, 17750, 15870, 19900]\n",
    "vendas_2sem = [19850, 20120, 17540, 15555, 49051, 9650]\n",
    "\n",
    "vendas_1sem.extend(vendas_2sem)\n",
    "maior_venda = (max(vendas_1sem))\n",
    "print('A maior venda do ano foi {}'.format (maior_venda))\n",
    "\n",
    "menor_venda = (min(vendas_1sem))\n",
    "print('A menor venda do ano foi {}'.format (menor_venda))\n",
    "               \n",
    "\n"
   ]
  },
  {
   "cell_type": "markdown",
   "metadata": {},
   "source": [
    "## 2. Continuação\n",
    "\n",
    "Agora relacione as duas listas para printar 'O melhor mês do ano foi {} com {} vendas' e o mesmo para o pior mês do ano.\n",
    "\n",
    "Calcule também o faturamento total do Ano e quanto que o melhor mês representou do faturamento total.\n",
    "\n",
    "Obs: Para o faturamento total, pode usar a função sum(lista) que soma todos os itens de uma lista"
   ]
  },
  {
   "cell_type": "code",
   "execution_count": 17,
   "metadata": {},
   "outputs": [
    {
     "name": "stdout",
     "output_type": "stream",
     "text": [
      "O melhor mês do ano foi nov com 49051 vendas\n",
      "O pior mês do ano foi dez com 9650 vendas\n",
      "Faturamento total: R$261,486\n",
      "O melhor mês representou 18.8% das vendas de todo o ano\n"
     ]
    }
   ],
   "source": [
    "i_maior_valor = vendas_1sem.index(maior_venda)\n",
    "i_menor_valor = vendas_1sem.index(menor_venda)\n",
    "\n",
    "print('O melhor mês do ano foi {} com {} vendas'.format(meses[i_maior_valor], maior_venda))\n",
    "print('O pior mês do ano foi {} com {} vendas'.format(meses[i_menor_valor], menor_venda))\n",
    "\n",
    "faturamento = sum(vendas_1sem)\n",
    "print('Faturamento total: R${:,}'.format(faturamento))\n",
    "\n",
    "percentual = maior_venda / faturamento\n",
    "\n",
    "print('O melhor mês representou {:.1%} das vendas de todo o ano'.format(percentual))\n"
   ]
  },
  {
   "cell_type": "markdown",
   "metadata": {},
   "source": [
    "## 3. Crie uma lista com o top 3 valores de vendas do ano (sem fazer \"no olho\")\n",
    "\n",
    "Dica: o método remove retira um item da lista."
   ]
  },
  {
   "cell_type": "code",
   "execution_count": 5,
   "metadata": {},
   "outputs": [
    {
     "name": "stdout",
     "output_type": "stream",
     "text": [
      "[9650, 15555, 15870, 17540, 17750, 19850, 19900, 20120, 22200, 25000, 29000, 49051]\n",
      "Os 3 tops valores de vendas foram\n",
      "49051\n",
      "29000\n",
      "25000\n"
     ]
    }
   ],
   "source": [
    "\n",
    "top3 = []\n",
    "vendas_1sem.sort()\n",
    "print(vendas_1sem)\n",
    "print('Os 3 tops valores de vendas foram')\n",
    "print(vendas_1sem[-1])\n",
    "print(vendas_1sem[-2])\n",
    "print(vendas_1sem[-3])\n"
   ]
  }
 ],
 "metadata": {
  "kernelspec": {
   "display_name": "Python 3 (ipykernel)",
   "language": "python",
   "name": "python3"
  },
  "language_info": {
   "codemirror_mode": {
    "name": "ipython",
    "version": 3
   },
   "file_extension": ".py",
   "mimetype": "text/x-python",
   "name": "python",
   "nbconvert_exporter": "python",
   "pygments_lexer": "ipython3",
   "version": "3.9.7"
  }
 },
 "nbformat": 4,
 "nbformat_minor": 4
}
