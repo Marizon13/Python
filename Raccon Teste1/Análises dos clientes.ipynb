{
 "cells": [
  {
   "cell_type": "markdown",
   "id": "19443852",
   "metadata": {},
   "source": [
    "## Projeto Data Science - DataVis"
   ]
  },
  {
   "cell_type": "markdown",
   "id": "433081c9",
   "metadata": {},
   "source": [
    "### Análise geral do pedido"
   ]
  },
  {
   "cell_type": "code",
   "execution_count": 1,
   "id": "02ce68fd",
   "metadata": {},
   "outputs": [],
   "source": [
    "import pandas as pd # importando pandas para ajudar nas análises\n",
    "import matplotlib.pyplot as plt # importando matplotlib para ajudar nos graficos\n"
   ]
  },
  {
   "cell_type": "code",
   "execution_count": 2,
   "id": "3a99585b",
   "metadata": {},
   "outputs": [],
   "source": [
    "dados = pd.read_csv('dados/psel.csv', sep = ';') # importei o arquivo do excel.csv"
   ]
  },
  {
   "cell_type": "code",
   "execution_count": 3,
   "id": "fdaa1b36",
   "metadata": {},
   "outputs": [
    {
     "data": {
      "text/html": [
       "<div>\n",
       "<style scoped>\n",
       "    .dataframe tbody tr th:only-of-type {\n",
       "        vertical-align: middle;\n",
       "    }\n",
       "\n",
       "    .dataframe tbody tr th {\n",
       "        vertical-align: top;\n",
       "    }\n",
       "\n",
       "    .dataframe thead th {\n",
       "        text-align: right;\n",
       "    }\n",
       "</style>\n",
       "<table border=\"1\" class=\"dataframe\">\n",
       "  <thead>\n",
       "    <tr style=\"text-align: right;\">\n",
       "      <th></th>\n",
       "      <th>data</th>\n",
       "      <th>receita</th>\n",
       "      <th>transacoes_blog</th>\n",
       "      <th>transacoes_site</th>\n",
       "      <th>usuarios_blog</th>\n",
       "      <th>usuarios_site</th>\n",
       "    </tr>\n",
       "  </thead>\n",
       "  <tbody>\n",
       "    <tr>\n",
       "      <th>0</th>\n",
       "      <td>01/01/2019</td>\n",
       "      <td>349184.0</td>\n",
       "      <td>0.0</td>\n",
       "      <td>4693.0</td>\n",
       "      <td>0.0</td>\n",
       "      <td>46739.0</td>\n",
       "    </tr>\n",
       "    <tr>\n",
       "      <th>1</th>\n",
       "      <td>02/01/2019</td>\n",
       "      <td>867328.0</td>\n",
       "      <td>0.0</td>\n",
       "      <td>8501.0</td>\n",
       "      <td>0.0</td>\n",
       "      <td>83129.0</td>\n",
       "    </tr>\n",
       "    <tr>\n",
       "      <th>2</th>\n",
       "      <td>03/01/2019</td>\n",
       "      <td>758590.0</td>\n",
       "      <td>0.0</td>\n",
       "      <td>9375.0</td>\n",
       "      <td>0.0</td>\n",
       "      <td>86067.0</td>\n",
       "    </tr>\n",
       "    <tr>\n",
       "      <th>3</th>\n",
       "      <td>04/01/2019</td>\n",
       "      <td>688873.0</td>\n",
       "      <td>0.0</td>\n",
       "      <td>8405.0</td>\n",
       "      <td>0.0</td>\n",
       "      <td>69363.0</td>\n",
       "    </tr>\n",
       "    <tr>\n",
       "      <th>4</th>\n",
       "      <td>05/01/2019</td>\n",
       "      <td>441760.0</td>\n",
       "      <td>0.0</td>\n",
       "      <td>6136.0</td>\n",
       "      <td>0.0</td>\n",
       "      <td>56183.0</td>\n",
       "    </tr>\n",
       "    <tr>\n",
       "      <th>5</th>\n",
       "      <td>06/01/2019</td>\n",
       "      <td>539398.0</td>\n",
       "      <td>0.0</td>\n",
       "      <td>5762.0</td>\n",
       "      <td>0.0</td>\n",
       "      <td>50790.0</td>\n",
       "    </tr>\n",
       "    <tr>\n",
       "      <th>6</th>\n",
       "      <td>07/01/2019</td>\n",
       "      <td>703413.0</td>\n",
       "      <td>0.0</td>\n",
       "      <td>8072.0</td>\n",
       "      <td>0.0</td>\n",
       "      <td>73742.0</td>\n",
       "    </tr>\n",
       "    <tr>\n",
       "      <th>7</th>\n",
       "      <td>08/01/2019</td>\n",
       "      <td>884104.0</td>\n",
       "      <td>0.0</td>\n",
       "      <td>9455.0</td>\n",
       "      <td>0.0</td>\n",
       "      <td>84951.0</td>\n",
       "    </tr>\n",
       "    <tr>\n",
       "      <th>8</th>\n",
       "      <td>09/01/2019</td>\n",
       "      <td>911559.0</td>\n",
       "      <td>0.0</td>\n",
       "      <td>10152.0</td>\n",
       "      <td>0.0</td>\n",
       "      <td>80605.0</td>\n",
       "    </tr>\n",
       "    <tr>\n",
       "      <th>9</th>\n",
       "      <td>10/01/2019</td>\n",
       "      <td>946827.0</td>\n",
       "      <td>0.0</td>\n",
       "      <td>11294.0</td>\n",
       "      <td>0.0</td>\n",
       "      <td>87958.0</td>\n",
       "    </tr>\n",
       "  </tbody>\n",
       "</table>\n",
       "</div>"
      ],
      "text/plain": [
       "         data   receita  transacoes_blog  transacoes_site  usuarios_blog  \\\n",
       "0  01/01/2019  349184.0              0.0           4693.0            0.0   \n",
       "1  02/01/2019  867328.0              0.0           8501.0            0.0   \n",
       "2  03/01/2019  758590.0              0.0           9375.0            0.0   \n",
       "3  04/01/2019  688873.0              0.0           8405.0            0.0   \n",
       "4  05/01/2019  441760.0              0.0           6136.0            0.0   \n",
       "5  06/01/2019  539398.0              0.0           5762.0            0.0   \n",
       "6  07/01/2019  703413.0              0.0           8072.0            0.0   \n",
       "7  08/01/2019  884104.0              0.0           9455.0            0.0   \n",
       "8  09/01/2019  911559.0              0.0          10152.0            0.0   \n",
       "9  10/01/2019  946827.0              0.0          11294.0            0.0   \n",
       "\n",
       "   usuarios_site  \n",
       "0        46739.0  \n",
       "1        83129.0  \n",
       "2        86067.0  \n",
       "3        69363.0  \n",
       "4        56183.0  \n",
       "5        50790.0  \n",
       "6        73742.0  \n",
       "7        84951.0  \n",
       "8        80605.0  \n",
       "9        87958.0  "
      ]
     },
     "execution_count": 3,
     "metadata": {},
     "output_type": "execute_result"
    }
   ],
   "source": [
    "dados.head(10) # puxei uma consulta breve para ver se estava ok"
   ]
  },
  {
   "cell_type": "markdown",
   "id": "c435b010",
   "metadata": {},
   "source": [
    "### Informações sobre a base de dados e graficos"
   ]
  },
  {
   "cell_type": "code",
   "execution_count": 4,
   "id": "e3cbaf96",
   "metadata": {},
   "outputs": [],
   "source": [
    "tipos_de_dados = pd.DataFrame(dados.dtypes, columns = ['Tipos de Dados']) # consultando os tipos de propriedades"
   ]
  },
  {
   "cell_type": "code",
   "execution_count": 5,
   "id": "d2cfbf17",
   "metadata": {},
   "outputs": [],
   "source": [
    "tipos_de_dados.columns.name = 'Variáveis'"
   ]
  },
  {
   "cell_type": "code",
   "execution_count": 6,
   "id": "8b3a1f49",
   "metadata": {},
   "outputs": [
    {
     "data": {
      "text/html": [
       "<div>\n",
       "<style scoped>\n",
       "    .dataframe tbody tr th:only-of-type {\n",
       "        vertical-align: middle;\n",
       "    }\n",
       "\n",
       "    .dataframe tbody tr th {\n",
       "        vertical-align: top;\n",
       "    }\n",
       "\n",
       "    .dataframe thead th {\n",
       "        text-align: right;\n",
       "    }\n",
       "</style>\n",
       "<table border=\"1\" class=\"dataframe\">\n",
       "  <thead>\n",
       "    <tr style=\"text-align: right;\">\n",
       "      <th>Variáveis</th>\n",
       "      <th>Tipos de Dados</th>\n",
       "    </tr>\n",
       "  </thead>\n",
       "  <tbody>\n",
       "    <tr>\n",
       "      <th>data</th>\n",
       "      <td>object</td>\n",
       "    </tr>\n",
       "    <tr>\n",
       "      <th>receita</th>\n",
       "      <td>float64</td>\n",
       "    </tr>\n",
       "    <tr>\n",
       "      <th>transacoes_blog</th>\n",
       "      <td>float64</td>\n",
       "    </tr>\n",
       "    <tr>\n",
       "      <th>transacoes_site</th>\n",
       "      <td>float64</td>\n",
       "    </tr>\n",
       "    <tr>\n",
       "      <th>usuarios_blog</th>\n",
       "      <td>float64</td>\n",
       "    </tr>\n",
       "    <tr>\n",
       "      <th>usuarios_site</th>\n",
       "      <td>float64</td>\n",
       "    </tr>\n",
       "  </tbody>\n",
       "</table>\n",
       "</div>"
      ],
      "text/plain": [
       "Variáveis       Tipos de Dados\n",
       "data                    object\n",
       "receita                float64\n",
       "transacoes_blog        float64\n",
       "transacoes_site        float64\n",
       "usuarios_blog          float64\n",
       "usuarios_site          float64"
      ]
     },
     "execution_count": 6,
     "metadata": {},
     "output_type": "execute_result"
    }
   ],
   "source": [
    "tipos_de_dados"
   ]
  },
  {
   "cell_type": "code",
   "execution_count": 7,
   "id": "4938002f",
   "metadata": {},
   "outputs": [
    {
     "name": "stdout",
     "output_type": "stream",
     "text": [
      "Total da receita foi de = 1037666473.0\n",
      "Total de transações pelo blog = 337616.0\n",
      "Total de transações pelo site = 12166011.0\n",
      "Total de usuarios no blog = 920063.0\n",
      "Total de usuários no site = 64929100.0\n"
     ]
    }
   ],
   "source": [
    "print('Total da receita foi de = {}'.format (dados[\"receita\"].sum())) # A soma geral de todas as variáveis baseado em todas as datas\n",
    "print('Total de transações pelo blog = {}'.format (dados[\"transacoes_blog\"].sum()))\n",
    "print('Total de transações pelo site = {}'.format (dados[\"transacoes_site\"].sum()))\n",
    "print('Total de usuarios no blog = {}'.format (dados[\"usuarios_blog\"].sum()))\n",
    "print('Total de usuários no site = {}'.format (dados[\"usuarios_site\"].sum()))"
   ]
  },
  {
   "cell_type": "code",
   "execution_count": 8,
   "id": "04baf141",
   "metadata": {},
   "outputs": [],
   "source": [
    "dados1 = dados.set_index('data') # fiz uma variavel para tirar o indice 0 e contar pela data\n",
    "receita = dados1['receita'] # criei uma variavel para o campo receita para calcular por coluna\n",
    "receita = pd.DataFrame(receita)\n",
    "\n",
    "transacoes_blog1 = dados1['transacoes_blog'] # criei uma variavel para o campo transacoes_blog para calcular por coluna\n",
    "transacoes_blog1 = pd.DataFrame(transacoes_blog1)\n",
    "\n",
    "transacoes_site2 = dados1['transacoes_site'] # criei uma variavel para o campo transacoes_site para calcular por coluna\n",
    "transacoes_site2 = pd.DataFrame(transacoes_site2)\n",
    "\n",
    "usuarios_blog3 = dados1['usuarios_blog'] # criei uma variavel para o campo usuarios_blog para calcular por coluna\n",
    "usuarios_blog3 = pd.DataFrame(usuarios_blog3)\n",
    "\n",
    "usuarios_site4 = dados1['usuarios_site'] # criei uma variavel para o campo usuarios_site para calcular por coluna\n",
    "usuarios_site4 = pd.DataFrame(usuarios_site4)\n"
   ]
  },
  {
   "cell_type": "markdown",
   "id": "cb1cff80",
   "metadata": {},
   "source": [
    "# TRANSAÇÕES DA RECEITA"
   ]
  },
  {
   "cell_type": "code",
   "execution_count": 9,
   "id": "e1d9f970",
   "metadata": {},
   "outputs": [
    {
     "data": {
      "text/html": [
       "<div>\n",
       "<style scoped>\n",
       "    .dataframe tbody tr th:only-of-type {\n",
       "        vertical-align: middle;\n",
       "    }\n",
       "\n",
       "    .dataframe tbody tr th {\n",
       "        vertical-align: top;\n",
       "    }\n",
       "\n",
       "    .dataframe thead th {\n",
       "        text-align: right;\n",
       "    }\n",
       "</style>\n",
       "<table border=\"1\" class=\"dataframe\">\n",
       "  <thead>\n",
       "    <tr style=\"text-align: right;\">\n",
       "      <th></th>\n",
       "      <th>receita</th>\n",
       "    </tr>\n",
       "    <tr>\n",
       "      <th>data</th>\n",
       "      <th></th>\n",
       "    </tr>\n",
       "  </thead>\n",
       "  <tbody>\n",
       "    <tr>\n",
       "      <th>29/11/2019</th>\n",
       "      <td>12266844.0</td>\n",
       "    </tr>\n",
       "    <tr>\n",
       "      <th>28/11/2019</th>\n",
       "      <td>8853976.0</td>\n",
       "    </tr>\n",
       "    <tr>\n",
       "      <th>30/09/2020</th>\n",
       "      <td>6240174.0</td>\n",
       "    </tr>\n",
       "    <tr>\n",
       "      <th>31/08/2020</th>\n",
       "      <td>5663636.0</td>\n",
       "    </tr>\n",
       "    <tr>\n",
       "      <th>16/09/2020</th>\n",
       "      <td>5614618.0</td>\n",
       "    </tr>\n",
       "    <tr>\n",
       "      <th>...</th>\n",
       "      <td>...</td>\n",
       "    </tr>\n",
       "    <tr>\n",
       "      <th>15/05/2019</th>\n",
       "      <td>164982.0</td>\n",
       "    </tr>\n",
       "    <tr>\n",
       "      <th>20/04/2019</th>\n",
       "      <td>150838.0</td>\n",
       "    </tr>\n",
       "    <tr>\n",
       "      <th>26/04/2019</th>\n",
       "      <td>139264.0</td>\n",
       "    </tr>\n",
       "    <tr>\n",
       "      <th>28/04/2019</th>\n",
       "      <td>118375.0</td>\n",
       "    </tr>\n",
       "    <tr>\n",
       "      <th>14/05/2019</th>\n",
       "      <td>32085.0</td>\n",
       "    </tr>\n",
       "  </tbody>\n",
       "</table>\n",
       "<p>639 rows × 1 columns</p>\n",
       "</div>"
      ],
      "text/plain": [
       "               receita\n",
       "data                  \n",
       "29/11/2019  12266844.0\n",
       "28/11/2019   8853976.0\n",
       "30/09/2020   6240174.0\n",
       "31/08/2020   5663636.0\n",
       "16/09/2020   5614618.0\n",
       "...                ...\n",
       "15/05/2019    164982.0\n",
       "20/04/2019    150838.0\n",
       "26/04/2019    139264.0\n",
       "28/04/2019    118375.0\n",
       "14/05/2019     32085.0\n",
       "\n",
       "[639 rows x 1 columns]"
      ]
     },
     "metadata": {},
     "output_type": "display_data"
    }
   ],
   "source": [
    "receita = receita.sort_values('receita', ascending = False).dropna() # filtrei o maior valor decrescente da coluna receita, tirando os valores que estavam em Nan\n",
    "display(receita)\n",
    "\n"
   ]
  },
  {
   "cell_type": "code",
   "execution_count": 10,
   "id": "5388c1a5",
   "metadata": {},
   "outputs": [
    {
     "data": {
      "text/plain": [
       "Text(0, 0.5, 'Quantidade')"
      ]
     },
     "execution_count": 10,
     "metadata": {},
     "output_type": "execute_result"
    },
    {
     "data": {
      "image/png": "[encoded data removed]",
      "text/plain": [
       "<Figure size 1080x360 with 1 Axes>"
      ]
     },
     "metadata": {
      "needs_background": "light"
     },
     "output_type": "display_data"
    }
   ],
   "source": [
    "receita['receita'][:10].plot.bar(figsize=(15, 5), color = 'green') # fiz um grafico baseado nas datas com as maiores receitas\n",
    "font1 = {'family':'serif','color':'black','size':20} #Editando o grafico\n",
    "font2 = {'family':'serif','color':'black','size':15}\n",
    "plt.title(\"Maiores receitas\", fontdict = font1)\n",
    "plt.xlabel(\"Datas\", fontdict = font2)\n",
    "plt.ylabel(\"Quantidade\", fontdict = font2)"
   ]
  },
  {
   "cell_type": "markdown",
   "id": "3ab1fbbe",
   "metadata": {},
   "source": [
    "## Estatística de receita"
   ]
  },
  {
   "cell_type": "code",
   "execution_count": 11,
   "id": "f3233ee4",
   "metadata": {},
   "outputs": [
    {
     "data": {
      "text/html": [
       "<div>\n",
       "<style scoped>\n",
       "    .dataframe tbody tr th:only-of-type {\n",
       "        vertical-align: middle;\n",
       "    }\n",
       "\n",
       "    .dataframe tbody tr th {\n",
       "        vertical-align: top;\n",
       "    }\n",
       "\n",
       "    .dataframe thead th {\n",
       "        text-align: right;\n",
       "    }\n",
       "</style>\n",
       "<table border=\"1\" class=\"dataframe\">\n",
       "  <thead>\n",
       "    <tr style=\"text-align: right;\">\n",
       "      <th></th>\n",
       "      <th>receita</th>\n",
       "    </tr>\n",
       "  </thead>\n",
       "  <tbody>\n",
       "    <tr>\n",
       "      <th>count</th>\n",
       "      <td>639.00</td>\n",
       "    </tr>\n",
       "    <tr>\n",
       "      <th>média</th>\n",
       "      <td>1623891.19</td>\n",
       "    </tr>\n",
       "    <tr>\n",
       "      <th>padrão</th>\n",
       "      <td>1160581.16</td>\n",
       "    </tr>\n",
       "    <tr>\n",
       "      <th>min</th>\n",
       "      <td>32085.00</td>\n",
       "    </tr>\n",
       "    <tr>\n",
       "      <th>25%</th>\n",
       "      <td>807342.00</td>\n",
       "    </tr>\n",
       "    <tr>\n",
       "      <th>50%</th>\n",
       "      <td>1263161.00</td>\n",
       "    </tr>\n",
       "    <tr>\n",
       "      <th>75%</th>\n",
       "      <td>2232769.50</td>\n",
       "    </tr>\n",
       "    <tr>\n",
       "      <th>max</th>\n",
       "      <td>12266844.00</td>\n",
       "    </tr>\n",
       "  </tbody>\n",
       "</table>\n",
       "</div>"
      ],
      "text/plain": [
       "            receita\n",
       "count        639.00\n",
       "média    1623891.19\n",
       "padrão   1160581.16\n",
       "min        32085.00\n",
       "25%       807342.00\n",
       "50%      1263161.00\n",
       "75%      2232769.50\n",
       "max     12266844.00"
      ]
     },
     "execution_count": 11,
     "metadata": {},
     "output_type": "execute_result"
    }
   ],
   "source": [
    "receita[['receita']].describe().round(2).rename({'mean': 'média', 'std': 'padrão'}, axis= 'index') # Fiz uma estatistica para consultar do min ao max de informações da coluna"
   ]
  },
  {
   "cell_type": "code",
   "execution_count": 29,
   "id": "a930e5f7",
   "metadata": {},
   "outputs": [
    {
     "data": {
      "text/plain": [
       "Text(0, 0.5, 'Quantidade')"
      ]
     },
     "execution_count": 29,
     "metadata": {},
     "output_type": "execute_result"
    },
    {
     "data": {
      "image/png": "[encoded data removed]",
      "text/plain": [
       "<Figure size 1080x360 with 1 Axes>"
      ]
     },
     "metadata": {
      "needs_background": "light"
     },
     "output_type": "display_data"
    }
   ],
   "source": [
    "receita['receita'][:10].plot(figsize=(15, 5), color = 'green') # fiz um grafico baseado nas estatística da receita\n",
    "font1 = {'family':'serif','color':'black','size':20} #Editando o grafico\n",
    "font2 = {'family':'serif','color':'black','size':15}\n",
    "plt.title(\"Estatística de receitas\", fontdict = font1)\n",
    "plt.xlabel(\"Datas\", fontdict = font2)\n",
    "plt.ylabel(\"Quantidade\", fontdict = font2)"
   ]
  },
  {
   "cell_type": "markdown",
   "id": "22a14d26",
   "metadata": {},
   "source": [
    "# TRANSAÇÕES NO BLOG"
   ]
  },
  {
   "cell_type": "code",
   "execution_count": 13,
   "id": "cb25f2bf",
   "metadata": {},
   "outputs": [
    {
     "data": {
      "text/html": [
       "<div>\n",
       "<style scoped>\n",
       "    .dataframe tbody tr th:only-of-type {\n",
       "        vertical-align: middle;\n",
       "    }\n",
       "\n",
       "    .dataframe tbody tr th {\n",
       "        vertical-align: top;\n",
       "    }\n",
       "\n",
       "    .dataframe thead th {\n",
       "        text-align: right;\n",
       "    }\n",
       "</style>\n",
       "<table border=\"1\" class=\"dataframe\">\n",
       "  <thead>\n",
       "    <tr style=\"text-align: right;\">\n",
       "      <th></th>\n",
       "      <th>transacoes_blog</th>\n",
       "    </tr>\n",
       "    <tr>\n",
       "      <th>data</th>\n",
       "      <th></th>\n",
       "    </tr>\n",
       "  </thead>\n",
       "  <tbody>\n",
       "    <tr>\n",
       "      <th>03/08/2020</th>\n",
       "      <td>5586.0</td>\n",
       "    </tr>\n",
       "    <tr>\n",
       "      <th>04/08/2020</th>\n",
       "      <td>5298.0</td>\n",
       "    </tr>\n",
       "    <tr>\n",
       "      <th>02/08/2020</th>\n",
       "      <td>5019.0</td>\n",
       "    </tr>\n",
       "    <tr>\n",
       "      <th>26/07/2020</th>\n",
       "      <td>4925.0</td>\n",
       "    </tr>\n",
       "    <tr>\n",
       "      <th>06/08/2020</th>\n",
       "      <td>4842.0</td>\n",
       "    </tr>\n",
       "    <tr>\n",
       "      <th>...</th>\n",
       "      <td>...</td>\n",
       "    </tr>\n",
       "    <tr>\n",
       "      <th>03/08/2019</th>\n",
       "      <td>0.0</td>\n",
       "    </tr>\n",
       "    <tr>\n",
       "      <th>04/08/2019</th>\n",
       "      <td>0.0</td>\n",
       "    </tr>\n",
       "    <tr>\n",
       "      <th>05/08/2019</th>\n",
       "      <td>0.0</td>\n",
       "    </tr>\n",
       "    <tr>\n",
       "      <th>06/08/2019</th>\n",
       "      <td>0.0</td>\n",
       "    </tr>\n",
       "    <tr>\n",
       "      <th>16/11/2019</th>\n",
       "      <td>0.0</td>\n",
       "    </tr>\n",
       "  </tbody>\n",
       "</table>\n",
       "<p>639 rows × 1 columns</p>\n",
       "</div>"
      ],
      "text/plain": [
       "            transacoes_blog\n",
       "data                       \n",
       "03/08/2020           5586.0\n",
       "04/08/2020           5298.0\n",
       "02/08/2020           5019.0\n",
       "26/07/2020           4925.0\n",
       "06/08/2020           4842.0\n",
       "...                     ...\n",
       "03/08/2019              0.0\n",
       "04/08/2019              0.0\n",
       "05/08/2019              0.0\n",
       "06/08/2019              0.0\n",
       "16/11/2019              0.0\n",
       "\n",
       "[639 rows x 1 columns]"
      ]
     },
     "metadata": {},
     "output_type": "display_data"
    }
   ],
   "source": [
    "transacoes_blog1 = transacoes_blog1.sort_values('transacoes_blog', ascending = False).dropna() # filtrei o maior valor decrescente da coluna transações do blog, tirando os valores que estavam em Nan\n",
    "display(transacoes_blog1)\n"
   ]
  },
  {
   "cell_type": "code",
   "execution_count": 14,
   "id": "108c043e",
   "metadata": {},
   "outputs": [
    {
     "data": {
      "text/plain": [
       "Text(0, 0.5, 'Quantidade')"
      ]
     },
     "execution_count": 14,
     "metadata": {},
     "output_type": "execute_result"
    },
    {
     "data": {
      "image/png": "[encoded data removed]",
      "text/plain": [
       "<Figure size 1080x360 with 1 Axes>"
      ]
     },
     "metadata": {
      "needs_background": "light"
     },
     "output_type": "display_data"
    }
   ],
   "source": [
    "transacoes_blog1['transacoes_blog'][:10].plot.bar(figsize=(15, 5), color = 'red') # fiz um grafico baseado nas datas com as maiores transacoes_blog\n",
    "font1 = {'family':'serif','color':'black','size':20} #Editando o grafico\n",
    "font2 = {'family':'serif','color':'black','size':15}\n",
    "plt.title(\"Maiores transações do blog\", fontdict = font1)\n",
    "plt.xlabel(\"Datas\", fontdict = font2)\n",
    "plt.ylabel(\"Quantidade\", fontdict = font2)"
   ]
  },
  {
   "cell_type": "markdown",
   "id": "f31605d7",
   "metadata": {},
   "source": [
    "## Estatística de transações no blog"
   ]
  },
  {
   "cell_type": "code",
   "execution_count": 15,
   "id": "f27c3962",
   "metadata": {},
   "outputs": [
    {
     "data": {
      "text/html": [
       "<div>\n",
       "<style scoped>\n",
       "    .dataframe tbody tr th:only-of-type {\n",
       "        vertical-align: middle;\n",
       "    }\n",
       "\n",
       "    .dataframe tbody tr th {\n",
       "        vertical-align: top;\n",
       "    }\n",
       "\n",
       "    .dataframe thead th {\n",
       "        text-align: right;\n",
       "    }\n",
       "</style>\n",
       "<table border=\"1\" class=\"dataframe\">\n",
       "  <thead>\n",
       "    <tr style=\"text-align: right;\">\n",
       "      <th></th>\n",
       "      <th>transacoes_blog</th>\n",
       "    </tr>\n",
       "  </thead>\n",
       "  <tbody>\n",
       "    <tr>\n",
       "      <th>count</th>\n",
       "      <td>639.00</td>\n",
       "    </tr>\n",
       "    <tr>\n",
       "      <th>média</th>\n",
       "      <td>528.35</td>\n",
       "    </tr>\n",
       "    <tr>\n",
       "      <th>padrão</th>\n",
       "      <td>1201.78</td>\n",
       "    </tr>\n",
       "    <tr>\n",
       "      <th>min</th>\n",
       "      <td>0.00</td>\n",
       "    </tr>\n",
       "    <tr>\n",
       "      <th>25%</th>\n",
       "      <td>0.00</td>\n",
       "    </tr>\n",
       "    <tr>\n",
       "      <th>50%</th>\n",
       "      <td>0.00</td>\n",
       "    </tr>\n",
       "    <tr>\n",
       "      <th>75%</th>\n",
       "      <td>0.00</td>\n",
       "    </tr>\n",
       "    <tr>\n",
       "      <th>max</th>\n",
       "      <td>5586.00</td>\n",
       "    </tr>\n",
       "  </tbody>\n",
       "</table>\n",
       "</div>"
      ],
      "text/plain": [
       "        transacoes_blog\n",
       "count            639.00\n",
       "média            528.35\n",
       "padrão          1201.78\n",
       "min                0.00\n",
       "25%                0.00\n",
       "50%                0.00\n",
       "75%                0.00\n",
       "max             5586.00"
      ]
     },
     "execution_count": 15,
     "metadata": {},
     "output_type": "execute_result"
    }
   ],
   "source": [
    "transacoes_blog1[['transacoes_blog']].describe().round(2).rename({'mean': 'média', 'std': 'padrão'}, axis= 'index') # Fiz uma estatistica para consultar do min ao max de informações da coluna"
   ]
  },
  {
   "cell_type": "code",
   "execution_count": 16,
   "id": "4dd5fa97",
   "metadata": {},
   "outputs": [
    {
     "data": {
      "text/plain": [
       "Text(0, 0.5, 'Quantidade')"
      ]
     },
     "execution_count": 16,
     "metadata": {},
     "output_type": "execute_result"
    },
    {
     "data": {
      "image/png": "[encoded data removed]",
      "text/plain": [
       "<Figure size 1080x360 with 1 Axes>"
      ]
     },
     "metadata": {
      "needs_background": "light"
     },
     "output_type": "display_data"
    }
   ],
   "source": [
    "transacoes_blog1['transacoes_blog'][:10].plot(figsize=(15, 5), color = 'red') # fiz um grafico com as estatistica de transações no blog\n",
    "font1 = {'family':'serif','color':'black','size':20} #Editando o grafico\n",
    "font2 = {'family':'serif','color':'black','size':15}\n",
    "plt.title(\"Estatística de transações no site\", fontdict = font1)\n",
    "plt.xlabel(\"Datas\", fontdict = font2)\n",
    "plt.ylabel(\"Quantidade\", fontdict = font2)"
   ]
  },
  {
   "cell_type": "markdown",
   "id": "30d830fd",
   "metadata": {},
   "source": [
    "# TRANSAÇÕES NO SITE"
   ]
  },
  {
   "cell_type": "code",
   "execution_count": 17,
   "id": "2aecdbdb",
   "metadata": {},
   "outputs": [
    {
     "data": {
      "text/html": [
       "<div>\n",
       "<style scoped>\n",
       "    .dataframe tbody tr th:only-of-type {\n",
       "        vertical-align: middle;\n",
       "    }\n",
       "\n",
       "    .dataframe tbody tr th {\n",
       "        vertical-align: top;\n",
       "    }\n",
       "\n",
       "    .dataframe thead th {\n",
       "        text-align: right;\n",
       "    }\n",
       "</style>\n",
       "<table border=\"1\" class=\"dataframe\">\n",
       "  <thead>\n",
       "    <tr style=\"text-align: right;\">\n",
       "      <th></th>\n",
       "      <th>transacoes_site</th>\n",
       "    </tr>\n",
       "    <tr>\n",
       "      <th>data</th>\n",
       "      <th></th>\n",
       "    </tr>\n",
       "  </thead>\n",
       "  <tbody>\n",
       "    <tr>\n",
       "      <th>29/11/2019</th>\n",
       "      <td>188955.0</td>\n",
       "    </tr>\n",
       "    <tr>\n",
       "      <th>28/11/2019</th>\n",
       "      <td>126133.0</td>\n",
       "    </tr>\n",
       "    <tr>\n",
       "      <th>30/11/2019</th>\n",
       "      <td>81873.0</td>\n",
       "    </tr>\n",
       "    <tr>\n",
       "      <th>04/12/2019</th>\n",
       "      <td>75475.0</td>\n",
       "    </tr>\n",
       "    <tr>\n",
       "      <th>03/12/2019</th>\n",
       "      <td>73886.0</td>\n",
       "    </tr>\n",
       "    <tr>\n",
       "      <th>...</th>\n",
       "      <td>...</td>\n",
       "    </tr>\n",
       "    <tr>\n",
       "      <th>01/04/2019</th>\n",
       "      <td>4520.0</td>\n",
       "    </tr>\n",
       "    <tr>\n",
       "      <th>24/04/2019</th>\n",
       "      <td>4170.0</td>\n",
       "    </tr>\n",
       "    <tr>\n",
       "      <th>20/04/2019</th>\n",
       "      <td>4113.0</td>\n",
       "    </tr>\n",
       "    <tr>\n",
       "      <th>07/04/2019</th>\n",
       "      <td>3914.0</td>\n",
       "    </tr>\n",
       "    <tr>\n",
       "      <th>06/04/2019</th>\n",
       "      <td>3557.0</td>\n",
       "    </tr>\n",
       "  </tbody>\n",
       "</table>\n",
       "<p>639 rows × 1 columns</p>\n",
       "</div>"
      ],
      "text/plain": [
       "            transacoes_site\n",
       "data                       \n",
       "29/11/2019         188955.0\n",
       "28/11/2019         126133.0\n",
       "30/11/2019          81873.0\n",
       "04/12/2019          75475.0\n",
       "03/12/2019          73886.0\n",
       "...                     ...\n",
       "01/04/2019           4520.0\n",
       "24/04/2019           4170.0\n",
       "20/04/2019           4113.0\n",
       "07/04/2019           3914.0\n",
       "06/04/2019           3557.0\n",
       "\n",
       "[639 rows x 1 columns]"
      ]
     },
     "metadata": {},
     "output_type": "display_data"
    }
   ],
   "source": [
    "transacoes_site2 = transacoes_site2.sort_values('transacoes_site', ascending = False).dropna() # filtrei o maior valor decrescente da transações do site, tirando os valores que estavam em Nan\n",
    "display(transacoes_site2)\n"
   ]
  },
  {
   "cell_type": "code",
   "execution_count": 18,
   "id": "10046f47",
   "metadata": {},
   "outputs": [
    {
     "data": {
      "text/plain": [
       "Text(0, 0.5, 'Quantidade')"
      ]
     },
     "execution_count": 18,
     "metadata": {},
     "output_type": "execute_result"
    },
    {
     "data": {
      "image/png": "[encoded data removed]",
      "text/plain": [
       "<Figure size 1080x360 with 1 Axes>"
      ]
     },
     "metadata": {
      "needs_background": "light"
     },
     "output_type": "display_data"
    }
   ],
   "source": [
    "transacoes_site2['transacoes_site'][:10].plot.bar(figsize=(15, 5), color = 'blue') # fiz um grafico baseado nas datas com as maiores transacoes do site\n",
    "font1 = {'family':'serif','color':'black','size':20} #Editando o grafico\n",
    "font2 = {'family':'serif','color':'black','size':15}\n",
    "plt.title(\"Maiores transações no site\", fontdict = font1)\n",
    "plt.xlabel(\"Datas\", fontdict = font2)\n",
    "plt.ylabel(\"Quantidade\", fontdict = font2)"
   ]
  },
  {
   "cell_type": "markdown",
   "id": "893e5a5e",
   "metadata": {},
   "source": [
    "## Estatística de transações no site"
   ]
  },
  {
   "cell_type": "code",
   "execution_count": 19,
   "id": "7f6040a6",
   "metadata": {},
   "outputs": [
    {
     "data": {
      "text/html": [
       "<div>\n",
       "<style scoped>\n",
       "    .dataframe tbody tr th:only-of-type {\n",
       "        vertical-align: middle;\n",
       "    }\n",
       "\n",
       "    .dataframe tbody tr th {\n",
       "        vertical-align: top;\n",
       "    }\n",
       "\n",
       "    .dataframe thead th {\n",
       "        text-align: right;\n",
       "    }\n",
       "</style>\n",
       "<table border=\"1\" class=\"dataframe\">\n",
       "  <thead>\n",
       "    <tr style=\"text-align: right;\">\n",
       "      <th></th>\n",
       "      <th>transacoes_site</th>\n",
       "    </tr>\n",
       "  </thead>\n",
       "  <tbody>\n",
       "    <tr>\n",
       "      <th>count</th>\n",
       "      <td>639.00</td>\n",
       "    </tr>\n",
       "    <tr>\n",
       "      <th>média</th>\n",
       "      <td>19039.14</td>\n",
       "    </tr>\n",
       "    <tr>\n",
       "      <th>padrão</th>\n",
       "      <td>13677.73</td>\n",
       "    </tr>\n",
       "    <tr>\n",
       "      <th>min</th>\n",
       "      <td>3557.00</td>\n",
       "    </tr>\n",
       "    <tr>\n",
       "      <th>25%</th>\n",
       "      <td>11013.00</td>\n",
       "    </tr>\n",
       "    <tr>\n",
       "      <th>50%</th>\n",
       "      <td>16069.00</td>\n",
       "    </tr>\n",
       "    <tr>\n",
       "      <th>75%</th>\n",
       "      <td>22606.50</td>\n",
       "    </tr>\n",
       "    <tr>\n",
       "      <th>max</th>\n",
       "      <td>188955.00</td>\n",
       "    </tr>\n",
       "  </tbody>\n",
       "</table>\n",
       "</div>"
      ],
      "text/plain": [
       "        transacoes_site\n",
       "count            639.00\n",
       "média          19039.14\n",
       "padrão         13677.73\n",
       "min             3557.00\n",
       "25%            11013.00\n",
       "50%            16069.00\n",
       "75%            22606.50\n",
       "max           188955.00"
      ]
     },
     "execution_count": 19,
     "metadata": {},
     "output_type": "execute_result"
    }
   ],
   "source": [
    "transacoes_site2[['transacoes_site']].describe().round(2).rename({'mean': 'média', 'std': 'padrão'}, axis= 'index') # Fiz uma estatistica para consultar do min ao max de informações da coluna"
   ]
  },
  {
   "cell_type": "code",
   "execution_count": 20,
   "id": "4bf84ebf",
   "metadata": {},
   "outputs": [
    {
     "data": {
      "text/plain": [
       "Text(0, 0.5, 'Quantidade')"
      ]
     },
     "execution_count": 20,
     "metadata": {},
     "output_type": "execute_result"
    },
    {
     "data": {
      "image/png": "[encoded data removed]",
      "text/plain": [
       "<Figure size 1080x360 with 1 Axes>"
      ]
     },
     "metadata": {
      "needs_background": "light"
     },
     "output_type": "display_data"
    }
   ],
   "source": [
    "transacoes_site2['transacoes_site'][:10].plot(figsize=(15, 5), color = 'blue') # fiz um grafico baseado nas datas com as maiores quantidade de transações no site\n",
    "font1 = {'family':'serif','color':'black','size':20} #Editando o grafico\n",
    "font2 = {'family':'serif','color':'black','size':15}\n",
    "plt.title(\"Estatística de transações no site\", fontdict = font1)\n",
    "plt.xlabel(\"Datas\", fontdict = font2)\n",
    "plt.ylabel(\"Quantidade\", fontdict = font2)"
   ]
  },
  {
   "cell_type": "markdown",
   "id": "1a010ac2",
   "metadata": {},
   "source": [
    "# VISITAS NO BLOG"
   ]
  },
  {
   "cell_type": "code",
   "execution_count": 21,
   "id": "2b5f520e",
   "metadata": {},
   "outputs": [
    {
     "data": {
      "text/html": [
       "<div>\n",
       "<style scoped>\n",
       "    .dataframe tbody tr th:only-of-type {\n",
       "        vertical-align: middle;\n",
       "    }\n",
       "\n",
       "    .dataframe tbody tr th {\n",
       "        vertical-align: top;\n",
       "    }\n",
       "\n",
       "    .dataframe thead th {\n",
       "        text-align: right;\n",
       "    }\n",
       "</style>\n",
       "<table border=\"1\" class=\"dataframe\">\n",
       "  <thead>\n",
       "    <tr style=\"text-align: right;\">\n",
       "      <th></th>\n",
       "      <th>usuarios_blog</th>\n",
       "    </tr>\n",
       "    <tr>\n",
       "      <th>data</th>\n",
       "      <th></th>\n",
       "    </tr>\n",
       "  </thead>\n",
       "  <tbody>\n",
       "    <tr>\n",
       "      <th>01/09/2020</th>\n",
       "      <td>13059.0</td>\n",
       "    </tr>\n",
       "    <tr>\n",
       "      <th>18/08/2020</th>\n",
       "      <td>12712.0</td>\n",
       "    </tr>\n",
       "    <tr>\n",
       "      <th>19/08/2020</th>\n",
       "      <td>12640.0</td>\n",
       "    </tr>\n",
       "    <tr>\n",
       "      <th>22/09/2020</th>\n",
       "      <td>12573.0</td>\n",
       "    </tr>\n",
       "    <tr>\n",
       "      <th>12/08/2020</th>\n",
       "      <td>12514.0</td>\n",
       "    </tr>\n",
       "    <tr>\n",
       "      <th>...</th>\n",
       "      <td>...</td>\n",
       "    </tr>\n",
       "    <tr>\n",
       "      <th>03/08/2019</th>\n",
       "      <td>0.0</td>\n",
       "    </tr>\n",
       "    <tr>\n",
       "      <th>04/08/2019</th>\n",
       "      <td>0.0</td>\n",
       "    </tr>\n",
       "    <tr>\n",
       "      <th>05/08/2019</th>\n",
       "      <td>0.0</td>\n",
       "    </tr>\n",
       "    <tr>\n",
       "      <th>06/08/2019</th>\n",
       "      <td>0.0</td>\n",
       "    </tr>\n",
       "    <tr>\n",
       "      <th>16/11/2019</th>\n",
       "      <td>0.0</td>\n",
       "    </tr>\n",
       "  </tbody>\n",
       "</table>\n",
       "<p>639 rows × 1 columns</p>\n",
       "</div>"
      ],
      "text/plain": [
       "            usuarios_blog\n",
       "data                     \n",
       "01/09/2020        13059.0\n",
       "18/08/2020        12712.0\n",
       "19/08/2020        12640.0\n",
       "22/09/2020        12573.0\n",
       "12/08/2020        12514.0\n",
       "...                   ...\n",
       "03/08/2019            0.0\n",
       "04/08/2019            0.0\n",
       "05/08/2019            0.0\n",
       "06/08/2019            0.0\n",
       "16/11/2019            0.0\n",
       "\n",
       "[639 rows x 1 columns]"
      ]
     },
     "metadata": {},
     "output_type": "display_data"
    }
   ],
   "source": [
    "usuarios_blog3 = usuarios_blog3.sort_values('usuarios_blog', ascending = False).dropna() # filtrei o maior valor decrescente da transações do blog, tirando os valores que estavam em Nan\n",
    "display(usuarios_blog3)"
   ]
  },
  {
   "cell_type": "code",
   "execution_count": 22,
   "id": "4141cc6e",
   "metadata": {},
   "outputs": [
    {
     "data": {
      "text/plain": [
       "Text(0, 0.5, 'Quantidade')"
      ]
     },
     "execution_count": 22,
     "metadata": {},
     "output_type": "execute_result"
    },
    {
     "data": {
      "image/png": "[encoded data removed]",
      "text/plain": [
       "<Figure size 1080x360 with 1 Axes>"
      ]
     },
     "metadata": {
      "needs_background": "light"
     },
     "output_type": "display_data"
    }
   ],
   "source": [
    "usuarios_blog3['usuarios_blog'][:10].plot.bar(figsize=(15, 5), color = 'darkred') # fiz um grafico baseado nas datas com as maiores transacoes_blog\n",
    "font1 = {'family':'serif','color':'black','size':20} #Editando o grafico\n",
    "font2 = {'family':'serif','color':'black','size':15}\n",
    "plt.title(\"Maiores visitas no blog\", fontdict = font1)\n",
    "plt.xlabel(\"Datas\", fontdict = font2)\n",
    "plt.ylabel(\"Quantidade\", fontdict = font2)"
   ]
  },
  {
   "cell_type": "markdown",
   "id": "c26b2ea7",
   "metadata": {},
   "source": [
    "## estatísticas de usuario no blog"
   ]
  },
  {
   "cell_type": "code",
   "execution_count": 23,
   "id": "4b9b490b",
   "metadata": {},
   "outputs": [
    {
     "data": {
      "text/html": [
       "<div>\n",
       "<style scoped>\n",
       "    .dataframe tbody tr th:only-of-type {\n",
       "        vertical-align: middle;\n",
       "    }\n",
       "\n",
       "    .dataframe tbody tr th {\n",
       "        vertical-align: top;\n",
       "    }\n",
       "\n",
       "    .dataframe thead th {\n",
       "        text-align: right;\n",
       "    }\n",
       "</style>\n",
       "<table border=\"1\" class=\"dataframe\">\n",
       "  <thead>\n",
       "    <tr style=\"text-align: right;\">\n",
       "      <th></th>\n",
       "      <th>usuarios_blog</th>\n",
       "    </tr>\n",
       "  </thead>\n",
       "  <tbody>\n",
       "    <tr>\n",
       "      <th>count</th>\n",
       "      <td>639.00</td>\n",
       "    </tr>\n",
       "    <tr>\n",
       "      <th>média</th>\n",
       "      <td>1439.85</td>\n",
       "    </tr>\n",
       "    <tr>\n",
       "      <th>padrão</th>\n",
       "      <td>3369.87</td>\n",
       "    </tr>\n",
       "    <tr>\n",
       "      <th>min</th>\n",
       "      <td>0.00</td>\n",
       "    </tr>\n",
       "    <tr>\n",
       "      <th>25%</th>\n",
       "      <td>0.00</td>\n",
       "    </tr>\n",
       "    <tr>\n",
       "      <th>50%</th>\n",
       "      <td>0.00</td>\n",
       "    </tr>\n",
       "    <tr>\n",
       "      <th>75%</th>\n",
       "      <td>0.00</td>\n",
       "    </tr>\n",
       "    <tr>\n",
       "      <th>max</th>\n",
       "      <td>13059.00</td>\n",
       "    </tr>\n",
       "  </tbody>\n",
       "</table>\n",
       "</div>"
      ],
      "text/plain": [
       "        usuarios_blog\n",
       "count          639.00\n",
       "média         1439.85\n",
       "padrão        3369.87\n",
       "min              0.00\n",
       "25%              0.00\n",
       "50%              0.00\n",
       "75%              0.00\n",
       "max          13059.00"
      ]
     },
     "execution_count": 23,
     "metadata": {},
     "output_type": "execute_result"
    }
   ],
   "source": [
    "usuarios_blog3[['usuarios_blog']].describe().round(2).rename({'mean': 'média', 'std': 'padrão'}, axis= 'index') # Fiz uma estatistica para consultar do min ao max de informações da coluna"
   ]
  },
  {
   "cell_type": "code",
   "execution_count": 24,
   "id": "8b78e1ac",
   "metadata": {},
   "outputs": [
    {
     "data": {
      "text/plain": [
       "Text(0, 0.5, 'Quantidade')"
      ]
     },
     "execution_count": 24,
     "metadata": {},
     "output_type": "execute_result"
    },
    {
     "data": {
      "image/png": "[encoded data removed]",
      "text/plain": [
       "<Figure size 1080x360 with 1 Axes>"
      ]
     },
     "metadata": {
      "needs_background": "light"
     },
     "output_type": "display_data"
    }
   ],
   "source": [
    "usuarios_blog3['usuarios_blog'][:10].plot(figsize=(15, 5), color = 'darkred') # fiz um grafico baseado nas datas com as maiores visitas no site\n",
    "font1 = {'family':'serif','color':'black','size':20} #Editando o grafico\n",
    "font2 = {'family':'serif','color':'black','size':15}\n",
    "plt.title(\"Usuário no blog\", fontdict = font1)\n",
    "plt.xlabel(\"Datas\", fontdict = font2)\n",
    "plt.ylabel(\"Quantidade\", fontdict = font2)"
   ]
  },
  {
   "cell_type": "markdown",
   "id": "ee6e3978",
   "metadata": {},
   "source": [
    "# VISITAS NO SITE"
   ]
  },
  {
   "cell_type": "code",
   "execution_count": 25,
   "id": "dae6dc2f",
   "metadata": {},
   "outputs": [
    {
     "data": {
      "text/html": [
       "<div>\n",
       "<style scoped>\n",
       "    .dataframe tbody tr th:only-of-type {\n",
       "        vertical-align: middle;\n",
       "    }\n",
       "\n",
       "    .dataframe tbody tr th {\n",
       "        vertical-align: top;\n",
       "    }\n",
       "\n",
       "    .dataframe thead th {\n",
       "        text-align: right;\n",
       "    }\n",
       "</style>\n",
       "<table border=\"1\" class=\"dataframe\">\n",
       "  <thead>\n",
       "    <tr style=\"text-align: right;\">\n",
       "      <th></th>\n",
       "      <th>usuarios_site</th>\n",
       "    </tr>\n",
       "    <tr>\n",
       "      <th>data</th>\n",
       "      <th></th>\n",
       "    </tr>\n",
       "  </thead>\n",
       "  <tbody>\n",
       "    <tr>\n",
       "      <th>29/11/2019</th>\n",
       "      <td>369989.0</td>\n",
       "    </tr>\n",
       "    <tr>\n",
       "      <th>28/11/2019</th>\n",
       "      <td>353792.0</td>\n",
       "    </tr>\n",
       "    <tr>\n",
       "      <th>07/11/2019</th>\n",
       "      <td>230227.0</td>\n",
       "    </tr>\n",
       "    <tr>\n",
       "      <th>09/06/2020</th>\n",
       "      <td>217632.0</td>\n",
       "    </tr>\n",
       "    <tr>\n",
       "      <th>08/11/2019</th>\n",
       "      <td>217563.0</td>\n",
       "    </tr>\n",
       "    <tr>\n",
       "      <th>...</th>\n",
       "      <td>...</td>\n",
       "    </tr>\n",
       "    <tr>\n",
       "      <th>31/12/2019</th>\n",
       "      <td>39510.0</td>\n",
       "    </tr>\n",
       "    <tr>\n",
       "      <th>19/01/2020</th>\n",
       "      <td>36934.0</td>\n",
       "    </tr>\n",
       "    <tr>\n",
       "      <th>23/02/2020</th>\n",
       "      <td>35665.0</td>\n",
       "    </tr>\n",
       "    <tr>\n",
       "      <th>11/01/2020</th>\n",
       "      <td>32065.0</td>\n",
       "    </tr>\n",
       "    <tr>\n",
       "      <th>12/01/2020</th>\n",
       "      <td>26298.0</td>\n",
       "    </tr>\n",
       "  </tbody>\n",
       "</table>\n",
       "<p>639 rows × 1 columns</p>\n",
       "</div>"
      ],
      "text/plain": [
       "            usuarios_site\n",
       "data                     \n",
       "29/11/2019       369989.0\n",
       "28/11/2019       353792.0\n",
       "07/11/2019       230227.0\n",
       "09/06/2020       217632.0\n",
       "08/11/2019       217563.0\n",
       "...                   ...\n",
       "31/12/2019        39510.0\n",
       "19/01/2020        36934.0\n",
       "23/02/2020        35665.0\n",
       "11/01/2020        32065.0\n",
       "12/01/2020        26298.0\n",
       "\n",
       "[639 rows x 1 columns]"
      ]
     },
     "metadata": {},
     "output_type": "display_data"
    }
   ],
   "source": [
    "usuarios_site4 = usuarios_site4.sort_values('usuarios_site', ascending = False).dropna() # filtrei o maior valor decrescente da transações do site, tirando os valores que estavam em Nan\n",
    "display(usuarios_site4)\n"
   ]
  },
  {
   "cell_type": "code",
   "execution_count": 26,
   "id": "a6963f25",
   "metadata": {},
   "outputs": [
    {
     "data": {
      "text/plain": [
       "Text(0, 0.5, 'Quantidade')"
      ]
     },
     "execution_count": 26,
     "metadata": {},
     "output_type": "execute_result"
    },
    {
     "data": {
      "image/png": "[encoded data removed]",
      "text/plain": [
       "<Figure size 1080x360 with 1 Axes>"
      ]
     },
     "metadata": {
      "needs_background": "light"
     },
     "output_type": "display_data"
    }
   ],
   "source": [
    "usuarios_site4['usuarios_site'][:10].plot.bar(figsize=(15, 5), color = 'darkorange') # fiz um grafico baseado nas datas com as maiores visitas no site\n",
    "font1 = {'family':'serif','color':'black','size':20} #Editando o grafico\n",
    "font2 = {'family':'serif','color':'black','size':15}\n",
    "plt.title(\"Maiores visitas do usuario no site\", fontdict = font1)\n",
    "plt.xlabel(\"Datas\", fontdict = font2)\n",
    "plt.ylabel(\"Quantidade\", fontdict = font2)"
   ]
  },
  {
   "cell_type": "markdown",
   "id": "2dbb6be7",
   "metadata": {},
   "source": [
    "## estatistícas de visitas no site"
   ]
  },
  {
   "cell_type": "code",
   "execution_count": 27,
   "id": "822babe3",
   "metadata": {},
   "outputs": [
    {
     "data": {
      "text/html": [
       "<div>\n",
       "<style scoped>\n",
       "    .dataframe tbody tr th:only-of-type {\n",
       "        vertical-align: middle;\n",
       "    }\n",
       "\n",
       "    .dataframe tbody tr th {\n",
       "        vertical-align: top;\n",
       "    }\n",
       "\n",
       "    .dataframe thead th {\n",
       "        text-align: right;\n",
       "    }\n",
       "</style>\n",
       "<table border=\"1\" class=\"dataframe\">\n",
       "  <thead>\n",
       "    <tr style=\"text-align: right;\">\n",
       "      <th></th>\n",
       "      <th>usuarios_site</th>\n",
       "    </tr>\n",
       "  </thead>\n",
       "  <tbody>\n",
       "    <tr>\n",
       "      <th>count</th>\n",
       "      <td>639.00</td>\n",
       "    </tr>\n",
       "    <tr>\n",
       "      <th>média</th>\n",
       "      <td>101610.49</td>\n",
       "    </tr>\n",
       "    <tr>\n",
       "      <th>padrão</th>\n",
       "      <td>37240.23</td>\n",
       "    </tr>\n",
       "    <tr>\n",
       "      <th>min</th>\n",
       "      <td>26298.00</td>\n",
       "    </tr>\n",
       "    <tr>\n",
       "      <th>25%</th>\n",
       "      <td>77727.00</td>\n",
       "    </tr>\n",
       "    <tr>\n",
       "      <th>50%</th>\n",
       "      <td>96104.00</td>\n",
       "    </tr>\n",
       "    <tr>\n",
       "      <th>75%</th>\n",
       "      <td>117586.50</td>\n",
       "    </tr>\n",
       "    <tr>\n",
       "      <th>max</th>\n",
       "      <td>369989.00</td>\n",
       "    </tr>\n",
       "  </tbody>\n",
       "</table>\n",
       "</div>"
      ],
      "text/plain": [
       "        usuarios_site\n",
       "count          639.00\n",
       "média       101610.49\n",
       "padrão       37240.23\n",
       "min          26298.00\n",
       "25%          77727.00\n",
       "50%          96104.00\n",
       "75%         117586.50\n",
       "max         369989.00"
      ]
     },
     "execution_count": 27,
     "metadata": {},
     "output_type": "execute_result"
    }
   ],
   "source": [
    "usuarios_site4[['usuarios_site']].describe().round(2).rename({'mean': 'média', 'std': 'padrão'}, axis= 'index') # Fiz uma estatistica para consultar do min ao max de informações da coluna"
   ]
  },
  {
   "cell_type": "code",
   "execution_count": 28,
   "id": "190cb27d",
   "metadata": {},
   "outputs": [
    {
     "data": {
      "text/plain": [
       "Text(0, 0.5, 'Quantidade')"
      ]
     },
     "execution_count": 28,
     "metadata": {},
     "output_type": "execute_result"
    },
    {
     "data": {
      "image/png": "[encoded data removed]",
      "text/plain": [
       "<Figure size 1080x360 with 1 Axes>"
      ]
     },
     "metadata": {
      "needs_background": "light"
     },
     "output_type": "display_data"
    }
   ],
   "source": [
    "usuarios_site4['usuarios_site'][:10].plot(figsize=(15, 5), color = 'darkorange') # fiz um grafico baseado nas datas com as maiores visitas no site\n",
    "font1 = {'family':'serif','color':'black','size':20} #Editando o grafico\n",
    "font2 = {'family':'serif','color':'black','size':15}\n",
    "plt.title(\"Estatística de visitas no site\", fontdict = font1)\n",
    "plt.xlabel(\"Datas\", fontdict = font2)\n",
    "plt.ylabel(\"Quantidade\", fontdict = font2)"
   ]
  },
  {
   "cell_type": "code",
   "execution_count": null,
   "id": "b6325299",
   "metadata": {},
   "outputs": [],
   "source": []
  }
 ],
 "metadata": {
  "kernelspec": {
   "display_name": "Python 3 (ipykernel)",
   "language": "python",
   "name": "python3"
  },
  "language_info": {
   "codemirror_mode": {
    "name": "ipython",
    "version": 3
   },
   "file_extension": ".py",
   "mimetype": "text/x-python",
   "name": "python",
   "nbconvert_exporter": "python",
   "pygments_lexer": "ipython3",
   "version": "3.9.7"
  }
 },
 "nbformat": 4,
 "nbformat_minor": 5
}
